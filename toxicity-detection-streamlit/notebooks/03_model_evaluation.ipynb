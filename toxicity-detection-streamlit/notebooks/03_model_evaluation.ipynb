{
 "cells": [
  {
   "cell_type": "code",
   "execution_count": null,
   "id": "12f91d3a",
   "metadata": {
    "vscode": {
     "languageId": "plaintext"
    }
   },
   "outputs": [],
   "source": [
    "import tensorflow as tf\n",
    "import pickle\n",
    "import pandas as pd\n",
    "from sklearn.metrics import classification_report, confusion_matrix\n",
    "from tensorflow.keras.preprocessing.sequence import pad_sequences\n",
    "\n",
    "# Load model & tokenizer\n",
    "model = tf.keras.models.load_model(\"../app/model.h5\")\n",
    "with open(\"../app/tokenizer.pkl\", \"rb\") as f:\n",
    "    tokenizer = pickle.load(f)\n",
    "\n",
    "# Load test dataset\n",
    "test = pd.read_csv(\"../data/test.csv\")\n",
    "X_test = test['comment_text']\n",
    "y_test = test['toxic']\n",
    "\n",
    "X_seq = tokenizer.texts_to_sequences(X_test)\n",
    "X_pad = pad_sequences(X_seq, maxlen=100, padding=\"post\")\n",
    "\n",
    "# Predictions\n",
    "y_pred = (model.predict(X_pad) > 0.5).astype(\"int\")\n",
    "\n",
    "print(classification_report(y_test, y_pred))\n",
    "print(confusion_matrix(y_test, y_pred))\n"
   ]
  }
 ],
 "metadata": {
  "language_info": {
   "name": "python"
  }
 },
 "nbformat": 4,
 "nbformat_minor": 5
}
